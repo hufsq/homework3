{
 "cells": [
  {
   "cell_type": "code",
   "execution_count": 1,
   "id": "fb2f9e6a-cc3a-4aa6-8629-eb66ed989a95",
   "metadata": {},
   "outputs": [],
   "source": [
    "import re\n",
    "import os\n",
    "from jieba import cut\n",
    "from itertools import chain\n",
    "from collections import Counter\n",
    "import numpy as np\n",
    "from sklearn.naive_bayes import MultinomialNB\n",
    "from sklearn.feature_extraction.text import TfidfVectorizer\n",
    "from imblearn.over_sampling import SMOTE  # 导入SMOTE过采样\n",
    "from imblearn.pipeline import make_pipeline  # 创建包含过采样的管道"
   ]
  },
  {
   "cell_type": "code",
   "execution_count": 2,
   "id": "369b1171-a3ce-4386-a010-4a790371fcd3",
   "metadata": {},
   "outputs": [],
   "source": [
    "def get_words(filename):\n",
    "    \"\"\"读取文本并过滤无效字符和长度为1的词\"\"\"\n",
    "    words = []\n",
    "    with open(filename, 'r', encoding='utf-8') as fr:\n",
    "        for line in fr:\n",
    "            line = line.strip()\n",
    "            line = re.sub(r'[.【】0-9、——。，！~\\*]', '', line)\n",
    "            line = cut(line)\n",
    "            line = filter(lambda word: len(word) > 1, line)\n",
    "            words.extend(line)\n",
    "    return words"
   ]
  },
  {
   "cell_type": "code",
   "execution_count": 3,
   "id": "40b788d7-0b88-4cae-bb6b-6788b4bcf127",
   "metadata": {},
   "outputs": [],
   "source": [
    "def get_texts(filenames):\n",
    "    \"\"\"读取所有文件内容并返回分词后的文本列表\"\"\"\n",
    "    texts = []\n",
    "    for filename in filenames:\n",
    "        with open(filename, 'r', encoding='utf-8') as fr:\n",
    "            text = fr.read()\n",
    "            text = re.sub(r'[.【】0-9、——。，！~\\*]', '', text)\n",
    "            words = cut(text)\n",
    "            words = filter(lambda word: len(word) > 1, words)\n",
    "            texts.append(' '.join(words))\n",
    "    return texts"
   ]
  },
  {
   "cell_type": "code",
   "execution_count": 4,
   "id": "875ad7cd-fa3b-4caf-ab30-39b3f2a4b976",
   "metadata": {},
   "outputs": [],
   "source": [
    "def extract_features(method='frequency', top_num=100):\n",
    "    \"\"\"特征提取函数，支持两种模式\"\"\"\n",
    "    filename_list = ['邮件_files/{}.txt'.format(i) for i in range(151)]\n",
    "    \n",
    "    if method == 'frequency':\n",
    "        all_words = []\n",
    "        for filename in filename_list:\n",
    "            all_words.append(get_words(filename))\n",
    "        freq = Counter(chain(*all_words))\n",
    "        top_words = [i[0] for i in freq.most_common(top_num)]\n",
    "        \n",
    "        vector = []\n",
    "        for words in all_words:\n",
    "            word_map = list(map(lambda word: words.count(word), top_words))\n",
    "            vector.append(word_map)\n",
    "        return np.array(vector), top_words\n",
    "    \n",
    "    elif method == 'tfidf':\n",
    "        texts = get_texts(filename_list)\n",
    "        tfidf = TfidfVectorizer(max_features=top_num)\n",
    "        vector = tfidf.fit_transform(texts).toarray()\n",
    "        top_words = tfidf.get_feature_names_out()\n",
    "        return vector, top_words\n",
    "    \n",
    "    else:\n",
    "        raise ValueError(\"method必须是 'frequency' 或 'tfidf'\")"
   ]
  },
  {
   "cell_type": "code",
   "execution_count": 5,
   "id": "bb9da052-7327-4901-bebe-d111f9457f63",
   "metadata": {},
   "outputs": [
    {
     "name": "stderr",
     "output_type": "stream",
     "text": [
      "Building prefix dict from the default dictionary ...\n",
      "Loading model from cache C:\\Users\\17519\\AppData\\Local\\Temp\\jieba.cache\n",
      "Loading model cost 0.767 seconds.\n",
      "Prefix dict has been built successfully.\n"
     ]
    }
   ],
   "source": [
    "# 参数配置\n",
    "method = 'frequency'  # 可切换为'tfidf'\n",
    "top_num = 100\n",
    "\n",
    "# 提取特征\n",
    "vector, top_words = extract_features(method=method, top_num=top_num)\n",
    "labels = np.array([1]*127 + [0]*24)  # 原始标签"
   ]
  },
  {
   "cell_type": "code",
   "execution_count": 6,
   "id": "c2796f81-bfd9-47d7-ba88-b08381e3acbf",
   "metadata": {},
   "outputs": [
    {
     "name": "stdout",
     "output_type": "stream",
     "text": [
      "过采样前类别分布: [ 24 127]\n",
      "过采样后类别分布: [127 127]\n"
     ]
    }
   ],
   "source": [
    "# 使用SMOTE过采样\n",
    "print(\"过采样前类别分布:\", np.bincount(labels))\n",
    "smote = SMOTE(random_state=42)\n",
    "vector_resampled, labels_resampled = smote.fit_resample(vector, labels)\n",
    "print(\"过采样后类别分布:\", np.bincount(labels_resampled))"
   ]
  },
  {
   "cell_type": "code",
   "execution_count": 7,
   "id": "0d2caa2e-9e0c-4423-a783-df2652bc9f98",
   "metadata": {},
   "outputs": [],
   "source": [
    "# 训练模型\n",
    "model = MultinomialNB()\n",
    "model.fit(vector_resampled, labels_resampled)\n",
    "\n",
    "def predict(filename, method='frequency'):\n",
    "    \"\"\"预测函数，支持两种特征模式\"\"\"\n",
    "    if method == 'frequency':\n",
    "        words = get_words(filename)\n",
    "        current_vector = np.array([words.count(word) for word in top_words])\n",
    "    elif method == 'tfidf':\n",
    "        text = ' '.join(get_words(filename))\n",
    "        tfidf = TfidfVectorizer(vocabulary=top_words)\n",
    "        current_vector = tfidf.fit_transform([text]).toarray()[0]\n",
    "    else:\n",
    "        raise ValueError(\"method必须是 'frequency' 或 'tfidf'\")\n",
    "    \n",
    "    result = model.predict(current_vector.reshape(1, -1))\n",
    "    return '垃圾邮件' if result == 1 else '普通邮件'"
   ]
  },
  {
   "cell_type": "code",
   "execution_count": 8,
   "id": "d5a466f8-31fd-4f93-90a5-e5e9a43758f4",
   "metadata": {},
   "outputs": [
    {
     "name": "stdout",
     "output_type": "stream",
     "text": [
      "邮件_files/151.txt分类情况: 垃圾邮件\n",
      "邮件_files/152.txt分类情况: 垃圾邮件\n",
      "邮件_files/153.txt分类情况: 普通邮件\n",
      "邮件_files/154.txt分类情况: 垃圾邮件\n",
      "邮件_files/155.txt分类情况: 普通邮件\n"
     ]
    }
   ],
   "source": [
    "# 测试分类\n",
    "test_files = ['邮件_files/{}.txt'.format(i) for i in range(151, 156)]\n",
    "for file in test_files:\n",
    "    print(f'{file}分类情况: {predict(file, method=method)}')"
   ]
  }
 ],
 "metadata": {
  "kernelspec": {
   "display_name": "Python 3 (ipykernel)",
   "language": "python",
   "name": "python3"
  },
  "language_info": {
   "codemirror_mode": {
    "name": "ipython",
    "version": 3
   },
   "file_extension": ".py",
   "mimetype": "text/x-python",
   "name": "python",
   "nbconvert_exporter": "python",
   "pygments_lexer": "ipython3",
   "version": "3.9.21"
  }
 },
 "nbformat": 4,
 "nbformat_minor": 5
}
