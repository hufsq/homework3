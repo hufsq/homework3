{
 "cells": [
  {
   "cell_type": "code",
   "execution_count": 8,
   "id": "fd481e7c-4d8c-4953-84ec-033c452a324a",
   "metadata": {},
   "outputs": [],
   "source": [
    "import re\n",
    "import os\n",
    "from jieba import cut\n",
    "from itertools import chain\n",
    "from collections import Counter\n",
    "import numpy as np\n",
    "from sklearn.naive_bayes import MultinomialNB\n",
    "from sklearn.feature_extraction.text import TfidfVectorizer  # 新增TF-IDF支持"
   ]
  },
  {
   "cell_type": "code",
   "execution_count": 9,
   "id": "14787052-8f81-4c03-b6c2-7e0524e5c9d8",
   "metadata": {},
   "outputs": [],
   "source": [
    "def get_words(filename):\n",
    "    \"\"\"读取文本并过滤无效字符和长度为1的词（与原代码一致）\"\"\"\n",
    "    words = []\n",
    "    with open(filename, 'r', encoding='utf-8') as fr:\n",
    "        for line in fr:\n",
    "            line = line.strip()\n",
    "            line = re.sub(r'[.【】0-9、——。，！~\\*]', '', line)\n",
    "            line = cut(line)\n",
    "            line = filter(lambda word: len(word) > 1, line)\n",
    "            words.extend(line)\n",
    "    return words"
   ]
  },
  {
   "cell_type": "code",
   "execution_count": 10,
   "id": "d7926f4a-25d0-45af-a857-8f7ac1d8e614",
   "metadata": {},
   "outputs": [],
   "source": [
    "def get_texts(filenames):\n",
    "    \"\"\"读取所有文件内容并返回分词后的文本列表（用于TF-IDF）\"\"\"\n",
    "    texts = []\n",
    "    for filename in filenames:\n",
    "        with open(filename, 'r', encoding='utf-8') as fr:\n",
    "            text = fr.read()\n",
    "            text = re.sub(r'[.【】0-9、——。，！~\\*]', '', text)\n",
    "            words = cut(text)\n",
    "            words = filter(lambda word: len(word) > 1, words)\n",
    "            texts.append(' '.join(words))  # 用空格连接分词结果\n",
    "    return texts"
   ]
  },
  {
   "cell_type": "code",
   "execution_count": 11,
   "id": "ac67d5ca-f24e-4f04-8ced-4a4a6c8de595",
   "metadata": {},
   "outputs": [],
   "source": [
    "def extract_features(method='frequency', top_num=100):\n",
    "    \"\"\"特征提取的切换函数\"\"\"\n",
    "    filename_list = ['邮件_files/{}.txt'.format(i) for i in range(151)]\n",
    "    \n",
    "    if method == 'frequency':\n",
    "        # 高频词特征（原代码逻辑）\n",
    "        all_words = []\n",
    "        for filename in filename_list:\n",
    "            all_words.append(get_words(filename))\n",
    "        freq = Counter(chain(*all_words))\n",
    "        top_words = [i[0] for i in freq.most_common(top_num)]\n",
    "        \n",
    "        # 构建词频向量\n",
    "        vector = []\n",
    "        for words in all_words:\n",
    "            word_map = list(map(lambda word: words.count(word), top_words))\n",
    "            vector.append(word_map)\n",
    "        return np.array(vector), top_words\n",
    "    \n",
    "    elif method == 'tfidf':\n",
    "        # TF-IDF加权特征\n",
    "        texts = get_texts(filename_list)\n",
    "        tfidf = TfidfVectorizer(max_features=top_num)\n",
    "        vector = tfidf.fit_transform(texts).toarray()\n",
    "        top_words = tfidf.get_feature_names_out()  # 获取特征词\n",
    "        return vector, top_words\n",
    "    \n",
    "    else:\n",
    "        raise ValueError(\"method必须是 'frequency' 或 'tfidf'\")"
   ]
  },
  {
   "cell_type": "code",
   "execution_count": 16,
   "id": "7d0a9d15-f1cb-42e0-a688-b7eabfd5dc61",
   "metadata": {},
   "outputs": [],
   "source": [
    "# 参数化选择特征方法（可切换为 'frequency'）\n",
    "method = 'tfidf' #或'frequency'\n",
    "vector, top_words = extract_features(method=method, top_num=100)"
   ]
  },
  {
   "cell_type": "code",
   "execution_count": 14,
   "id": "1861aa8b-bf28-4010-85ee-6b050185c1bc",
   "metadata": {},
   "outputs": [],
   "source": [
    "# 标签和模型训练（与原代码一致）\n",
    "labels = np.array([1]*127 + [0]*24)\n",
    "model = MultinomialNB()\n",
    "model.fit(vector, labels)\n",
    "\n",
    "def predict(filename, method='frequency'):\n",
    "    \"\"\"对未知邮件分类（支持两种特征方法）\"\"\"\n",
    "    if method == 'frequency':\n",
    "        words = get_words(filename)\n",
    "        current_vector = np.array([words.count(word) for word in top_words])\n",
    "    elif method == 'tfidf':\n",
    "        text = ' '.join(get_words(filename))  # 分词后拼接为字符串\n",
    "        tfidf = TfidfVectorizer(vocabulary=top_words)  # 使用训练时的词表\n",
    "        current_vector = tfidf.fit_transform([text]).toarray()[0]\n",
    "    else:\n",
    "        raise ValueError(\"method必须是 'frequency' 或 'tfidf'\")\n",
    "    \n",
    "    result = model.predict(current_vector.reshape(1, -1))\n",
    "    return '垃圾邮件' if result == 1 else '普通邮件'"
   ]
  },
  {
   "cell_type": "code",
   "execution_count": 15,
   "id": "eed7dac5-71af-4b46-a0f9-2f2b7e84b577",
   "metadata": {},
   "outputs": [
    {
     "name": "stdout",
     "output_type": "stream",
     "text": [
      "邮件_files/151.txt分类情况: 垃圾邮件\n",
      "邮件_files/152.txt分类情况: 垃圾邮件\n",
      "邮件_files/153.txt分类情况: 垃圾邮件\n",
      "邮件_files/154.txt分类情况: 垃圾邮件\n",
      "邮件_files/155.txt分类情况: 垃圾邮件\n"
     ]
    }
   ],
   "source": [
    "# 测试分类\n",
    "test_files = ['邮件_files/{}.txt'.format(i) for i in range(151, 156)]\n",
    "for file in test_files:\n",
    "    print(f'{file}分类情况: {predict(file, method=method)}')"
   ]
  }
 ],
 "metadata": {
  "kernelspec": {
   "display_name": "Python 3 (ipykernel)",
   "language": "python",
   "name": "python3"
  },
  "language_info": {
   "codemirror_mode": {
    "name": "ipython",
    "version": 3
   },
   "file_extension": ".py",
   "mimetype": "text/x-python",
   "name": "python",
   "nbconvert_exporter": "python",
   "pygments_lexer": "ipython3",
   "version": "3.9.21"
  }
 },
 "nbformat": 4,
 "nbformat_minor": 5
}
