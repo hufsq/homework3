{
 "cells": [
  {
   "cell_type": "code",
   "execution_count": 1,
   "id": "509e67d7-445e-44cd-a64c-68070dfed004",
   "metadata": {},
   "outputs": [],
   "source": [
    "import re\n",
    "import os\n",
    "from jieba import cut\n",
    "from itertools import chain\n",
    "from collections import Counter\n",
    "import numpy as np\n",
    "from sklearn.naive_bayes import MultinomialNB\n",
    "from sklearn.feature_extraction.text import TfidfVectorizer\n",
    "from imblearn.over_sampling import SMOTE\n",
    "from sklearn.model_selection import train_test_split  # 新增训练测试分割\n",
    "from sklearn.metrics import classification_report  # 新增评估报告"
   ]
  },
  {
   "cell_type": "code",
   "execution_count": 2,
   "id": "3ecc1c07-f0c2-43b6-afda-a05f34aae031",
   "metadata": {},
   "outputs": [],
   "source": [
    "def get_words(filename):\n",
    "    \"\"\"读取文本并过滤无效字符和长度为1的词\"\"\"\n",
    "    words = []\n",
    "    with open(filename, 'r', encoding='utf-8') as fr:\n",
    "        for line in fr:\n",
    "            line = line.strip()\n",
    "            line = re.sub(r'[.【】0-9、——。，！~\\*]', '', line)\n",
    "            line = cut(line)\n",
    "            line = filter(lambda word: len(word) > 1, line)\n",
    "            words.extend(line)\n",
    "    return words"
   ]
  },
  {
   "cell_type": "code",
   "execution_count": 3,
   "id": "a79fc5a0-4841-4fdd-86b9-952a22e6ece9",
   "metadata": {},
   "outputs": [],
   "source": [
    "def get_texts(filenames):\n",
    "    \"\"\"读取所有文件内容并返回分词后的文本列表\"\"\"\n",
    "    texts = []\n",
    "    for filename in filenames:\n",
    "        with open(filename, 'r', encoding='utf-8') as fr:\n",
    "            text = fr.read()\n",
    "            text = re.sub(r'[.【】0-9、——。，！~\\*]', '', text)\n",
    "            words = cut(text)\n",
    "            words = filter(lambda word: len(word) > 1, words)\n",
    "            texts.append(' '.join(words))\n",
    "    return texts"
   ]
  },
  {
   "cell_type": "code",
   "execution_count": 4,
   "id": "da165a2f-48ef-48f0-99a7-a34577d2c623",
   "metadata": {},
   "outputs": [],
   "source": [
    "def extract_features(method='frequency', top_num=100):\n",
    "    \"\"\"特征提取函数，支持两种模式\"\"\"\n",
    "    filename_list = ['邮件_files/{}.txt'.format(i) for i in range(151)]\n",
    "    \n",
    "    if method == 'frequency':\n",
    "        all_words = []\n",
    "        for filename in filename_list:\n",
    "            all_words.append(get_words(filename))\n",
    "        freq = Counter(chain(*all_words))\n",
    "        top_words = [i[0] for i in freq.most_common(top_num)]\n",
    "        \n",
    "        vector = []\n",
    "        for words in all_words:\n",
    "            word_map = list(map(lambda word: words.count(word), top_words))\n",
    "            vector.append(word_map)\n",
    "        return np.array(vector), top_words\n",
    "    \n",
    "    elif method == 'tfidf':\n",
    "        texts = get_texts(filename_list)\n",
    "        tfidf = TfidfVectorizer(max_features=top_num)\n",
    "        vector = tfidf.fit_transform(texts).toarray()\n",
    "        top_words = tfidf.get_feature_names_out()\n",
    "        return vector, top_words\n",
    "    \n",
    "    else:\n",
    "        raise ValueError(\"method必须是 'frequency' 或 'tfidf'\")"
   ]
  },
  {
   "cell_type": "code",
   "execution_count": 5,
   "id": "5891fd4f-ab10-47a8-aad8-35f1b7a5be24",
   "metadata": {},
   "outputs": [],
   "source": [
    "# 参数配置\n",
    "method = 'frequency'  # 可切换为'tfidf'\n",
    "top_num = 100\n",
    "test_size = 0.2  # 测试集比例\n",
    "random_state = 42  # 随机种子"
   ]
  },
  {
   "cell_type": "code",
   "execution_count": 6,
   "id": "97d4b80b-46d9-4aa2-96c8-17fc2f71d239",
   "metadata": {},
   "outputs": [
    {
     "name": "stderr",
     "output_type": "stream",
     "text": [
      "Building prefix dict from the default dictionary ...\n",
      "Loading model from cache C:\\Users\\17519\\AppData\\Local\\Temp\\jieba.cache\n",
      "Loading model cost 0.812 seconds.\n",
      "Prefix dict has been built successfully.\n"
     ]
    }
   ],
   "source": [
    "# 提取特征和标签\n",
    "vector, top_words = extract_features(method=method, top_num=top_num)\n",
    "labels = np.array([1]*127 + [0]*24)"
   ]
  },
  {
   "cell_type": "code",
   "execution_count": 7,
   "id": "230b1ce0-4130-44ce-8605-603b7b13053c",
   "metadata": {},
   "outputs": [],
   "source": [
    "# 划分训练集和测试集\n",
    "X_train, X_test, y_train, y_test = train_test_split(\n",
    "    vector, labels, test_size=test_size, random_state=random_state, stratify=labels\n",
    ")"
   ]
  },
  {
   "cell_type": "code",
   "execution_count": 8,
   "id": "ade44408-1810-4c05-9152-4082a2ca517f",
   "metadata": {},
   "outputs": [
    {
     "name": "stdout",
     "output_type": "stream",
     "text": [
      "\n",
      "过采样前类别分布: [ 19 101]\n",
      "过采样后类别分布: [101 101]\n"
     ]
    }
   ],
   "source": [
    "# 使用SMOTE过采样（仅对训练集）\n",
    "print(\"\\n过采样前类别分布:\", np.bincount(y_train))\n",
    "smote = SMOTE(random_state=random_state)\n",
    "X_train_resampled, y_train_resampled = smote.fit_resample(X_train, y_train)\n",
    "print(\"过采样后类别分布:\", np.bincount(y_train_resampled))"
   ]
  },
  {
   "cell_type": "code",
   "execution_count": 9,
   "id": "db818a59-6a2f-4b03-9f00-642084dd9a01",
   "metadata": {},
   "outputs": [
    {
     "data": {
      "text/html": [
       "<style>#sk-container-id-1 {color: black;background-color: white;}#sk-container-id-1 pre{padding: 0;}#sk-container-id-1 div.sk-toggleable {background-color: white;}#sk-container-id-1 label.sk-toggleable__label {cursor: pointer;display: block;width: 100%;margin-bottom: 0;padding: 0.3em;box-sizing: border-box;text-align: center;}#sk-container-id-1 label.sk-toggleable__label-arrow:before {content: \"▸\";float: left;margin-right: 0.25em;color: #696969;}#sk-container-id-1 label.sk-toggleable__label-arrow:hover:before {color: black;}#sk-container-id-1 div.sk-estimator:hover label.sk-toggleable__label-arrow:before {color: black;}#sk-container-id-1 div.sk-toggleable__content {max-height: 0;max-width: 0;overflow: hidden;text-align: left;background-color: #f0f8ff;}#sk-container-id-1 div.sk-toggleable__content pre {margin: 0.2em;color: black;border-radius: 0.25em;background-color: #f0f8ff;}#sk-container-id-1 input.sk-toggleable__control:checked~div.sk-toggleable__content {max-height: 200px;max-width: 100%;overflow: auto;}#sk-container-id-1 input.sk-toggleable__control:checked~label.sk-toggleable__label-arrow:before {content: \"▾\";}#sk-container-id-1 div.sk-estimator input.sk-toggleable__control:checked~label.sk-toggleable__label {background-color: #d4ebff;}#sk-container-id-1 div.sk-label input.sk-toggleable__control:checked~label.sk-toggleable__label {background-color: #d4ebff;}#sk-container-id-1 input.sk-hidden--visually {border: 0;clip: rect(1px 1px 1px 1px);clip: rect(1px, 1px, 1px, 1px);height: 1px;margin: -1px;overflow: hidden;padding: 0;position: absolute;width: 1px;}#sk-container-id-1 div.sk-estimator {font-family: monospace;background-color: #f0f8ff;border: 1px dotted black;border-radius: 0.25em;box-sizing: border-box;margin-bottom: 0.5em;}#sk-container-id-1 div.sk-estimator:hover {background-color: #d4ebff;}#sk-container-id-1 div.sk-parallel-item::after {content: \"\";width: 100%;border-bottom: 1px solid gray;flex-grow: 1;}#sk-container-id-1 div.sk-label:hover label.sk-toggleable__label {background-color: #d4ebff;}#sk-container-id-1 div.sk-serial::before {content: \"\";position: absolute;border-left: 1px solid gray;box-sizing: border-box;top: 0;bottom: 0;left: 50%;z-index: 0;}#sk-container-id-1 div.sk-serial {display: flex;flex-direction: column;align-items: center;background-color: white;padding-right: 0.2em;padding-left: 0.2em;position: relative;}#sk-container-id-1 div.sk-item {position: relative;z-index: 1;}#sk-container-id-1 div.sk-parallel {display: flex;align-items: stretch;justify-content: center;background-color: white;position: relative;}#sk-container-id-1 div.sk-item::before, #sk-container-id-1 div.sk-parallel-item::before {content: \"\";position: absolute;border-left: 1px solid gray;box-sizing: border-box;top: 0;bottom: 0;left: 50%;z-index: -1;}#sk-container-id-1 div.sk-parallel-item {display: flex;flex-direction: column;z-index: 1;position: relative;background-color: white;}#sk-container-id-1 div.sk-parallel-item:first-child::after {align-self: flex-end;width: 50%;}#sk-container-id-1 div.sk-parallel-item:last-child::after {align-self: flex-start;width: 50%;}#sk-container-id-1 div.sk-parallel-item:only-child::after {width: 0;}#sk-container-id-1 div.sk-dashed-wrapped {border: 1px dashed gray;margin: 0 0.4em 0.5em 0.4em;box-sizing: border-box;padding-bottom: 0.4em;background-color: white;}#sk-container-id-1 div.sk-label label {font-family: monospace;font-weight: bold;display: inline-block;line-height: 1.2em;}#sk-container-id-1 div.sk-label-container {text-align: center;}#sk-container-id-1 div.sk-container {/* jupyter's `normalize.less` sets `[hidden] { display: none; }` but bootstrap.min.css set `[hidden] { display: none !important; }` so we also need the `!important` here to be able to override the default hidden behavior on the sphinx rendered scikit-learn.org. See: https://github.com/scikit-learn/scikit-learn/issues/21755 */display: inline-block !important;position: relative;}#sk-container-id-1 div.sk-text-repr-fallback {display: none;}</style><div id=\"sk-container-id-1\" class=\"sk-top-container\"><div class=\"sk-text-repr-fallback\"><pre>MultinomialNB()</pre><b>In a Jupyter environment, please rerun this cell to show the HTML representation or trust the notebook. <br />On GitHub, the HTML representation is unable to render, please try loading this page with nbviewer.org.</b></div><div class=\"sk-container\" hidden><div class=\"sk-item\"><div class=\"sk-estimator sk-toggleable\"><input class=\"sk-toggleable__control sk-hidden--visually\" id=\"sk-estimator-id-1\" type=\"checkbox\" checked><label for=\"sk-estimator-id-1\" class=\"sk-toggleable__label sk-toggleable__label-arrow\">MultinomialNB</label><div class=\"sk-toggleable__content\"><pre>MultinomialNB()</pre></div></div></div></div></div>"
      ],
      "text/plain": [
       "MultinomialNB()"
      ]
     },
     "execution_count": 9,
     "metadata": {},
     "output_type": "execute_result"
    }
   ],
   "source": [
    "# 训练模型\n",
    "model = MultinomialNB()\n",
    "model.fit(X_train_resampled, y_train_resampled)"
   ]
  },
  {
   "cell_type": "code",
   "execution_count": 10,
   "id": "6ba44809-a623-4bdf-a66d-09fa81d09c11",
   "metadata": {},
   "outputs": [
    {
     "name": "stdout",
     "output_type": "stream",
     "text": [
      "\n",
      "========== 分类评估报告 ==========\n",
      "              precision    recall  f1-score   support\n",
      "\n",
      "        普通邮件       0.33      1.00      0.50         5\n",
      "        垃圾邮件       1.00      0.62      0.76        26\n",
      "\n",
      "    accuracy                           0.68        31\n",
      "   macro avg       0.67      0.81      0.63        31\n",
      "weighted avg       0.89      0.68      0.72        31\n",
      "\n",
      "=================================\n"
     ]
    }
   ],
   "source": [
    "# 在测试集上评估\n",
    "y_pred = model.predict(X_test)\n",
    "print(\"\\n========== 分类评估报告 ==========\")\n",
    "print(classification_report(y_test, y_pred, target_names=['普通邮件', '垃圾邮件']))\n",
    "print(\"=================================\")"
   ]
  },
  {
   "cell_type": "code",
   "execution_count": 11,
   "id": "fda31da1-fd0d-4bd1-b5f3-97dd5a2d4294",
   "metadata": {},
   "outputs": [],
   "source": [
    "def predict(filename, method='frequency'):\n",
    "    \"\"\"预测函数，支持两种特征模式\"\"\"\n",
    "    if method == 'frequency':\n",
    "        words = get_words(filename)\n",
    "        current_vector = np.array([words.count(word) for word in top_words])\n",
    "    elif method == 'tfidf':\n",
    "        text = ' '.join(get_words(filename))\n",
    "        tfidf = TfidfVectorizer(vocabulary=top_words)\n",
    "        current_vector = tfidf.fit_transform([text]).toarray()[0]\n",
    "    else:\n",
    "        raise ValueError(\"method必须是 'frequency' 或 'tfidf'\")\n",
    "    \n",
    "    result = model.predict(current_vector.reshape(1, -1))\n",
    "    return '垃圾邮件' if result == 1 else '普通邮件'"
   ]
  },
  {
   "cell_type": "code",
   "execution_count": 12,
   "id": "ca8f8e91-682a-469d-ae83-2b58a63888ec",
   "metadata": {},
   "outputs": [
    {
     "name": "stdout",
     "output_type": "stream",
     "text": [
      "\n",
      "测试邮件分类结果:\n",
      "邮件_files/151.txt分类情况: 普通邮件\n",
      "邮件_files/152.txt分类情况: 垃圾邮件\n",
      "邮件_files/153.txt分类情况: 普通邮件\n",
      "邮件_files/154.txt分类情况: 垃圾邮件\n",
      "邮件_files/155.txt分类情况: 普通邮件\n"
     ]
    }
   ],
   "source": [
    "# 测试分类\n",
    "test_files = ['邮件_files/{}.txt'.format(i) for i in range(151, 156)]\n",
    "print(\"\\n测试邮件分类结果:\")\n",
    "for file in test_files:\n",
    "    print(f'{file}分类情况: {predict(file, method=method)}')"
   ]
  }
 ],
 "metadata": {
  "kernelspec": {
   "display_name": "Python 3 (ipykernel)",
   "language": "python",
   "name": "python3"
  },
  "language_info": {
   "codemirror_mode": {
    "name": "ipython",
    "version": 3
   },
   "file_extension": ".py",
   "mimetype": "text/x-python",
   "name": "python",
   "nbconvert_exporter": "python",
   "pygments_lexer": "ipython3",
   "version": "3.9.21"
  }
 },
 "nbformat": 4,
 "nbformat_minor": 5
}
